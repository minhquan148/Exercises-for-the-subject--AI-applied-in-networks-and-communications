{
  "nbformat": 4,
  "nbformat_minor": 0,
  "metadata": {
    "colab": {
      "provenance": [],
      "collapsed_sections": [
        "uHt5rnZmetSu",
        "CuK8EFZoeJHf"
      ]
    },
    "kernelspec": {
      "name": "python3",
      "display_name": "Python 3"
    },
    "language_info": {
      "name": "python"
    }
  },
  "cells": [
    {
      "cell_type": "markdown",
      "source": [
        "Họ và tên: Trần Minh Quân\n",
        "\n",
        "MSSV: 20521796\n",
        "\n",
        "Lớp: NT539.O11.MMCL"
      ],
      "metadata": {
        "id": "JeQ6wU1jcUeM"
      }
    },
    {
      "cell_type": "markdown",
      "source": [
        "> Dựa trên dataset và pipeline đã làm ở bài tập số 1, bổ sung thêm các hàm và tính năng sau:\n",
        "- Kiểm tra sự mất cân bằng trong cột mục tiêu thông qua việc vẽ bart chart.\n",
        "- Thêm vào pipeline việc xử lý mất cân bằng dữ liệu sử dụng các hàm đã học bao gồm SMOTE, SMOTEENN\n",
        "- So sánh hiệu xuất mô hình (accuracy, recall, f1) giữa không có xử lý imbalance, xử lý imbalance bằng SMOTE, xử lý imbalance bằng SMOTEENN. In ra thành dạng bảng kết quả so sánh này"
      ],
      "metadata": {
        "id": "YaXSqsRacTj-"
      }
    },
    {
      "cell_type": "markdown",
      "source": [
        "# *Inport Libraries*"
      ],
      "metadata": {
        "id": "uHt5rnZmetSu"
      }
    },
    {
      "cell_type": "code",
      "source": [
        "import pandas as pd\n",
        "import numpy as np"
      ],
      "metadata": {
        "id": "TwmSRz9YchZs"
      },
      "execution_count": null,
      "outputs": []
    },
    {
      "cell_type": "code",
      "source": [
        "from google.colab import drive\n",
        "drive.mount('/content/drive')"
      ],
      "metadata": {
        "colab": {
          "base_uri": "https://localhost:8080/"
        },
        "id": "x54dJb9_ceGb",
        "outputId": "7cf849e1-3615-4b79-8304-8af9bd1c1144"
      },
      "execution_count": null,
      "outputs": [
        {
          "output_type": "stream",
          "name": "stdout",
          "text": [
            "Drive already mounted at /content/drive; to attempt to forcibly remount, call drive.mount(\"/content/drive\", force_remount=True).\n"
          ]
        }
      ]
    },
    {
      "cell_type": "code",
      "source": [
        "import matplotlib.pyplot as plt\n",
        "\n",
        "\n",
        "from sklearn.preprocessing import StandardScaler, LabelEncoder, OneHotEncoder\n",
        "from sklearn.pipeline import Pipeline\n",
        "from sklearn.impute import KNNImputer\n",
        "from sklearn.impute import SimpleImputer\n",
        "from sklearn.compose import ColumnTransformer\n",
        "\n",
        "from imblearn.over_sampling import SMOTE\n",
        "from imblearn.combine import SMOTEENN\n",
        "\n",
        "from sklearn.model_selection import train_test_split\n",
        "from sklearn.ensemble import RandomForestClassifier\n",
        "from sklearn.metrics import accuracy_score, classification_report"
      ],
      "metadata": {
        "id": "ceJ7FFL5dPqQ"
      },
      "execution_count": null,
      "outputs": []
    },
    {
      "cell_type": "markdown",
      "source": [
        "# *Kiểm tra sự mất cân bằng trong cột mục tiêu thông qua việc vẽ bart chart*"
      ],
      "metadata": {
        "id": "CuK8EFZoeJHf"
      }
    },
    {
      "cell_type": "code",
      "source": [
        "data = pd.read_csv('/content/drive/MyDrive/PROJECTS/28 09/data_final.csv')"
      ],
      "metadata": {
        "id": "QtFJm-z_eFQO"
      },
      "execution_count": null,
      "outputs": []
    },
    {
      "cell_type": "code",
      "source": [
        "label_counts = data['label'].value_counts()\n",
        "\n",
        "plt.figure(figsize=(8, 6))\n",
        "plt.bar(label_counts.index, label_counts.values)\n",
        "plt.xlabel('Values')\n",
        "plt.ylabel('Count')\n",
        "plt.title('Distribution chart of target column')\n",
        "\n",
        "plt.show()"
      ],
      "metadata": {
        "colab": {
          "base_uri": "https://localhost:8080/",
          "height": 564
        },
        "id": "JSvk3SAheGqx",
        "outputId": "68e327cc-dfe6-411b-efc0-f366fbfa9225"
      },
      "execution_count": null,
      "outputs": [
        {
          "output_type": "display_data",
          "data": {
            "text/plain": [
              "<Figure size 800x600 with 1 Axes>"
            ],
            "image/png": "[encoded data removed]"
          },
          "metadata": {}
        }
      ]
    },
    {
      "cell_type": "markdown",
      "source": [
        "# ***Pipeline Excercise 1***"
      ],
      "metadata": {
        "id": "OTY_E7VtejgI"
      }
    },
    {
      "cell_type": "code",
      "source": [
        "data.replace(0, np.nan, inplace=True)\n",
        "\n",
        "X = data.drop('label', axis=1)\n",
        "y = data['label']\n",
        "\n",
        "label_encoder = LabelEncoder()\n",
        "y_encoded = label_encoder.fit_transform(y)\n",
        "\n",
        "# Xác định danh sách các feature numeric và categorical\n",
        "numeric_features = X.select_dtypes(include=['int64', 'float64']).columns\n",
        "categorical_features = X.select_dtypes(include=['object']).columns.tolist()\n",
        "\n",
        "# Transformer cho numeric features và categorical features\n",
        "numeric_transformer = Pipeline(steps=[\n",
        "    ('imputer', KNNImputer(n_neighbors=5)),\n",
        "    ('scaler', StandardScaler())  # Scaling cho numeric features\n",
        "])\n",
        "\n",
        "# Apply one-hot encoding in the categorical transformer\n",
        "categorical_transformer = Pipeline(steps=[\n",
        "    ('imputer', SimpleImputer(strategy='most_frequent')),\n",
        "    ('onehot', OneHotEncoder(handle_unknown='ignore'))  # Specify handle_unknown\n",
        "])\n",
        "\n",
        "# Kết hợp các transformer dựa trên danh sách feature\n",
        "preprocessor = ColumnTransformer(\n",
        "    transformers=[\n",
        "        ('num', numeric_transformer, numeric_features),\n",
        "        ('cat', categorical_transformer, categorical_features)\n",
        "    ])\n",
        "\n",
        "pipeline = Pipeline(steps=[('preprocessor', preprocessor)])"
      ],
      "metadata": {
        "id": "koZyFGmSci7i"
      },
      "execution_count": null,
      "outputs": []
    },
    {
      "cell_type": "code",
      "source": [
        "pipeline"
      ],
      "metadata": {
        "colab": {
          "base_uri": "https://localhost:8080/",
          "height": 193
        },
        "id": "bPVLgP11d9Ys",
        "outputId": "93f22fba-3d9c-4969-fd1d-be145b99df3a"
      },
      "execution_count": null,
      "outputs": [
        {
          "output_type": "execute_result",
          "data": {
            "text/plain": [
              "Pipeline(steps=[('preprocessor',\n",
              "                 ColumnTransformer(transformers=[('num',\n",
              "                                                  Pipeline(steps=[('imputer',\n",
              "                                                                   KNNImputer()),\n",
              "                                                                  ('scaler',\n",
              "                                                                   StandardScaler())]),\n",
              "                                                  Index(['page_entropy', 'num_script_tags', 'script_to_body_ratio',\n",
              "       'html_length', 'page_tokens', 'num_sentences', 'num_punctuations',\n",
              "       'distinct_tokens', 'capitalizations', 'avg_tokens_per_sentence',\n",
              "       ...\n",
              "       'safe_anchor', 'on...\n",
              "       'domain_registration_length', 'dns_record', 'page_rank'],\n",
              "      dtype='object', length=118)),\n",
              "                                                 ('cat',\n",
              "                                                  Pipeline(steps=[('imputer',\n",
              "                                                                   SimpleImputer(strategy='most_frequent')),\n",
              "                                                                  ('onehot',\n",
              "                                                                   OneHotEncoder(handle_unknown='ignore'))]),\n",
              "                                                  ['url', 'host',\n",
              "                                                   'registration_date',\n",
              "                                                   'expiration_date',\n",
              "                                                   'last_updates_dates',\n",
              "                                                   'registrar', 'reg_country',\n",
              "                                                   'host_country', 'open_ports',\n",
              "                                                   'isp', 'tld',\n",
              "                                                   'scheme'])]))])"
            ],
            "text/html": [
              "<style>#sk-container-id-4 {color: black;background-color: white;}#sk-container-id-4 pre{padding: 0;}#sk-container-id-4 div.sk-toggleable {background-color: white;}#sk-container-id-4 label.sk-toggleable__label {cursor: pointer;display: block;width: 100%;margin-bottom: 0;padding: 0.3em;box-sizing: border-box;text-align: center;}#sk-container-id-4 label.sk-toggleable__label-arrow:before {content: \"▸\";float: left;margin-right: 0.25em;color: #696969;}#sk-container-id-4 label.sk-toggleable__label-arrow:hover:before {color: black;}#sk-container-id-4 div.sk-estimator:hover label.sk-toggleable__label-arrow:before {color: black;}#sk-container-id-4 div.sk-toggleable__content {max-height: 0;max-width: 0;overflow: hidden;text-align: left;background-color: #f0f8ff;}#sk-container-id-4 div.sk-toggleable__content pre {margin: 0.2em;color: black;border-radius: 0.25em;background-color: #f0f8ff;}#sk-container-id-4 input.sk-toggleable__control:checked~div.sk-toggleable__content {max-height: 200px;max-width: 100%;overflow: auto;}#sk-container-id-4 input.sk-toggleable__control:checked~label.sk-toggleable__label-arrow:before {content: \"▾\";}#sk-container-id-4 div.sk-estimator input.sk-toggleable__control:checked~label.sk-toggleable__label {background-color: #d4ebff;}#sk-container-id-4 div.sk-label input.sk-toggleable__control:checked~label.sk-toggleable__label {background-color: #d4ebff;}#sk-container-id-4 input.sk-hidden--visually {border: 0;clip: rect(1px 1px 1px 1px);clip: rect(1px, 1px, 1px, 1px);height: 1px;margin: -1px;overflow: hidden;padding: 0;position: absolute;width: 1px;}#sk-container-id-4 div.sk-estimator {font-family: monospace;background-color: #f0f8ff;border: 1px dotted black;border-radius: 0.25em;box-sizing: border-box;margin-bottom: 0.5em;}#sk-container-id-4 div.sk-estimator:hover {background-color: #d4ebff;}#sk-container-id-4 div.sk-parallel-item::after {content: \"\";width: 100%;border-bottom: 1px solid gray;flex-grow: 1;}#sk-container-id-4 div.sk-label:hover label.sk-toggleable__label {background-color: #d4ebff;}#sk-container-id-4 div.sk-serial::before {content: \"\";position: absolute;border-left: 1px solid gray;box-sizing: border-box;top: 0;bottom: 0;left: 50%;z-index: 0;}#sk-container-id-4 div.sk-serial {display: flex;flex-direction: column;align-items: center;background-color: white;padding-right: 0.2em;padding-left: 0.2em;position: relative;}#sk-container-id-4 div.sk-item {position: relative;z-index: 1;}#sk-container-id-4 div.sk-parallel {display: flex;align-items: stretch;justify-content: center;background-color: white;position: relative;}#sk-container-id-4 div.sk-item::before, #sk-container-id-4 div.sk-parallel-item::before {content: \"\";position: absolute;border-left: 1px solid gray;box-sizing: border-box;top: 0;bottom: 0;left: 50%;z-index: -1;}#sk-container-id-4 div.sk-parallel-item {display: flex;flex-direction: column;z-index: 1;position: relative;background-color: white;}#sk-container-id-4 div.sk-parallel-item:first-child::after {align-self: flex-end;width: 50%;}#sk-container-id-4 div.sk-parallel-item:last-child::after {align-self: flex-start;width: 50%;}#sk-container-id-4 div.sk-parallel-item:only-child::after {width: 0;}#sk-container-id-4 div.sk-dashed-wrapped {border: 1px dashed gray;margin: 0 0.4em 0.5em 0.4em;box-sizing: border-box;padding-bottom: 0.4em;background-color: white;}#sk-container-id-4 div.sk-label label {font-family: monospace;font-weight: bold;display: inline-block;line-height: 1.2em;}#sk-container-id-4 div.sk-label-container {text-align: center;}#sk-container-id-4 div.sk-container {/* jupyter's `normalize.less` sets `[hidden] { display: none; }` but bootstrap.min.css set `[hidden] { display: none !important; }` so we also need the `!important` here to be able to override the default hidden behavior on the sphinx rendered scikit-learn.org. See: https://github.com/scikit-learn/scikit-learn/issues/21755 */display: inline-block !important;position: relative;}#sk-container-id-4 div.sk-text-repr-fallback {display: none;}</style><div id=\"sk-container-id-4\" class=\"sk-top-container\"><div class=\"sk-text-repr-fallback\"><pre>Pipeline(steps=[(&#x27;preprocessor&#x27;,\n",
              "                 ColumnTransformer(transformers=[(&#x27;num&#x27;,\n",
              "                                                  Pipeline(steps=[(&#x27;imputer&#x27;,\n",
              "                                                                   KNNImputer()),\n",
              "                                                                  (&#x27;scaler&#x27;,\n",
              "                                                                   StandardScaler())]),\n",
              "                                                  Index([&#x27;page_entropy&#x27;, &#x27;num_script_tags&#x27;, &#x27;script_to_body_ratio&#x27;,\n",
              "       &#x27;html_length&#x27;, &#x27;page_tokens&#x27;, &#x27;num_sentences&#x27;, &#x27;num_punctuations&#x27;,\n",
              "       &#x27;distinct_tokens&#x27;, &#x27;capitalizations&#x27;, &#x27;avg_tokens_per_sentence&#x27;,\n",
              "       ...\n",
              "       &#x27;safe_anchor&#x27;, &#x27;on...\n",
              "       &#x27;domain_registration_length&#x27;, &#x27;dns_record&#x27;, &#x27;page_rank&#x27;],\n",
              "      dtype=&#x27;object&#x27;, length=118)),\n",
              "                                                 (&#x27;cat&#x27;,\n",
              "                                                  Pipeline(steps=[(&#x27;imputer&#x27;,\n",
              "                                                                   SimpleImputer(strategy=&#x27;most_frequent&#x27;)),\n",
              "                                                                  (&#x27;onehot&#x27;,\n",
              "                                                                   OneHotEncoder(handle_unknown=&#x27;ignore&#x27;))]),\n",
              "                                                  [&#x27;url&#x27;, &#x27;host&#x27;,\n",
              "                                                   &#x27;registration_date&#x27;,\n",
              "                                                   &#x27;expiration_date&#x27;,\n",
              "                                                   &#x27;last_updates_dates&#x27;,\n",
              "                                                   &#x27;registrar&#x27;, &#x27;reg_country&#x27;,\n",
              "                                                   &#x27;host_country&#x27;, &#x27;open_ports&#x27;,\n",
              "                                                   &#x27;isp&#x27;, &#x27;tld&#x27;,\n",
              "                                                   &#x27;scheme&#x27;])]))])</pre><b>In a Jupyter environment, please rerun this cell to show the HTML representation or trust the notebook. <br />On GitHub, the HTML representation is unable to render, please try loading this page with nbviewer.org.</b></div><div class=\"sk-container\" hidden><div class=\"sk-item sk-dashed-wrapped\"><div class=\"sk-label-container\"><div class=\"sk-label sk-toggleable\"><input class=\"sk-toggleable__control sk-hidden--visually\" id=\"sk-estimator-id-27\" type=\"checkbox\" ><label for=\"sk-estimator-id-27\" class=\"sk-toggleable__label sk-toggleable__label-arrow\">Pipeline</label><div class=\"sk-toggleable__content\"><pre>Pipeline(steps=[(&#x27;preprocessor&#x27;,\n",
              "                 ColumnTransformer(transformers=[(&#x27;num&#x27;,\n",
              "                                                  Pipeline(steps=[(&#x27;imputer&#x27;,\n",
              "                                                                   KNNImputer()),\n",
              "                                                                  (&#x27;scaler&#x27;,\n",
              "                                                                   StandardScaler())]),\n",
              "                                                  Index([&#x27;page_entropy&#x27;, &#x27;num_script_tags&#x27;, &#x27;script_to_body_ratio&#x27;,\n",
              "       &#x27;html_length&#x27;, &#x27;page_tokens&#x27;, &#x27;num_sentences&#x27;, &#x27;num_punctuations&#x27;,\n",
              "       &#x27;distinct_tokens&#x27;, &#x27;capitalizations&#x27;, &#x27;avg_tokens_per_sentence&#x27;,\n",
              "       ...\n",
              "       &#x27;safe_anchor&#x27;, &#x27;on...\n",
              "       &#x27;domain_registration_length&#x27;, &#x27;dns_record&#x27;, &#x27;page_rank&#x27;],\n",
              "      dtype=&#x27;object&#x27;, length=118)),\n",
              "                                                 (&#x27;cat&#x27;,\n",
              "                                                  Pipeline(steps=[(&#x27;imputer&#x27;,\n",
              "                                                                   SimpleImputer(strategy=&#x27;most_frequent&#x27;)),\n",
              "                                                                  (&#x27;onehot&#x27;,\n",
              "                                                                   OneHotEncoder(handle_unknown=&#x27;ignore&#x27;))]),\n",
              "                                                  [&#x27;url&#x27;, &#x27;host&#x27;,\n",
              "                                                   &#x27;registration_date&#x27;,\n",
              "                                                   &#x27;expiration_date&#x27;,\n",
              "                                                   &#x27;last_updates_dates&#x27;,\n",
              "                                                   &#x27;registrar&#x27;, &#x27;reg_country&#x27;,\n",
              "                                                   &#x27;host_country&#x27;, &#x27;open_ports&#x27;,\n",
              "                                                   &#x27;isp&#x27;, &#x27;tld&#x27;,\n",
              "                                                   &#x27;scheme&#x27;])]))])</pre></div></div></div><div class=\"sk-serial\"><div class=\"sk-item sk-dashed-wrapped\"><div class=\"sk-label-container\"><div class=\"sk-label sk-toggleable\"><input class=\"sk-toggleable__control sk-hidden--visually\" id=\"sk-estimator-id-28\" type=\"checkbox\" ><label for=\"sk-estimator-id-28\" class=\"sk-toggleable__label sk-toggleable__label-arrow\">preprocessor: ColumnTransformer</label><div class=\"sk-toggleable__content\"><pre>ColumnTransformer(transformers=[(&#x27;num&#x27;,\n",
              "                                 Pipeline(steps=[(&#x27;imputer&#x27;, KNNImputer()),\n",
              "                                                 (&#x27;scaler&#x27;, StandardScaler())]),\n",
              "                                 Index([&#x27;page_entropy&#x27;, &#x27;num_script_tags&#x27;, &#x27;script_to_body_ratio&#x27;,\n",
              "       &#x27;html_length&#x27;, &#x27;page_tokens&#x27;, &#x27;num_sentences&#x27;, &#x27;num_punctuations&#x27;,\n",
              "       &#x27;distinct_tokens&#x27;, &#x27;capitalizations&#x27;, &#x27;avg_tokens_per_sentence&#x27;,\n",
              "       ...\n",
              "       &#x27;safe_anchor&#x27;, &#x27;onmouseover&#x27;, &#x27;right_clic&#x27;, &#x27;empty_t...\n",
              "       &#x27;domain_registration_length&#x27;, &#x27;dns_record&#x27;, &#x27;page_rank&#x27;],\n",
              "      dtype=&#x27;object&#x27;, length=118)),\n",
              "                                (&#x27;cat&#x27;,\n",
              "                                 Pipeline(steps=[(&#x27;imputer&#x27;,\n",
              "                                                  SimpleImputer(strategy=&#x27;most_frequent&#x27;)),\n",
              "                                                 (&#x27;onehot&#x27;,\n",
              "                                                  OneHotEncoder(handle_unknown=&#x27;ignore&#x27;))]),\n",
              "                                 [&#x27;url&#x27;, &#x27;host&#x27;, &#x27;registration_date&#x27;,\n",
              "                                  &#x27;expiration_date&#x27;, &#x27;last_updates_dates&#x27;,\n",
              "                                  &#x27;registrar&#x27;, &#x27;reg_country&#x27;, &#x27;host_country&#x27;,\n",
              "                                  &#x27;open_ports&#x27;, &#x27;isp&#x27;, &#x27;tld&#x27;, &#x27;scheme&#x27;])])</pre></div></div></div><div class=\"sk-parallel\"><div class=\"sk-parallel-item\"><div class=\"sk-item\"><div class=\"sk-label-container\"><div class=\"sk-label sk-toggleable\"><input class=\"sk-toggleable__control sk-hidden--visually\" id=\"sk-estimator-id-29\" type=\"checkbox\" ><label for=\"sk-estimator-id-29\" class=\"sk-toggleable__label sk-toggleable__label-arrow\">num</label><div class=\"sk-toggleable__content\"><pre>Index([&#x27;page_entropy&#x27;, &#x27;num_script_tags&#x27;, &#x27;script_to_body_ratio&#x27;,\n",
              "       &#x27;html_length&#x27;, &#x27;page_tokens&#x27;, &#x27;num_sentences&#x27;, &#x27;num_punctuations&#x27;,\n",
              "       &#x27;distinct_tokens&#x27;, &#x27;capitalizations&#x27;, &#x27;avg_tokens_per_sentence&#x27;,\n",
              "       ...\n",
              "       &#x27;safe_anchor&#x27;, &#x27;onmouseover&#x27;, &#x27;right_clic&#x27;, &#x27;empty_title&#x27;,\n",
              "       &#x27;domain_in_title&#x27;, &#x27;domain_with_copyright&#x27;, &#x27;whois_registered_domain&#x27;,\n",
              "       &#x27;domain_registration_length&#x27;, &#x27;dns_record&#x27;, &#x27;page_rank&#x27;],\n",
              "      dtype=&#x27;object&#x27;, length=118)</pre></div></div></div><div class=\"sk-serial\"><div class=\"sk-item\"><div class=\"sk-serial\"><div class=\"sk-item\"><div class=\"sk-estimator sk-toggleable\"><input class=\"sk-toggleable__control sk-hidden--visually\" id=\"sk-estimator-id-30\" type=\"checkbox\" ><label for=\"sk-estimator-id-30\" class=\"sk-toggleable__label sk-toggleable__label-arrow\">KNNImputer</label><div class=\"sk-toggleable__content\"><pre>KNNImputer()</pre></div></div></div><div class=\"sk-item\"><div class=\"sk-estimator sk-toggleable\"><input class=\"sk-toggleable__control sk-hidden--visually\" id=\"sk-estimator-id-31\" type=\"checkbox\" ><label for=\"sk-estimator-id-31\" class=\"sk-toggleable__label sk-toggleable__label-arrow\">StandardScaler</label><div class=\"sk-toggleable__content\"><pre>StandardScaler()</pre></div></div></div></div></div></div></div></div><div class=\"sk-parallel-item\"><div class=\"sk-item\"><div class=\"sk-label-container\"><div class=\"sk-label sk-toggleable\"><input class=\"sk-toggleable__control sk-hidden--visually\" id=\"sk-estimator-id-32\" type=\"checkbox\" ><label for=\"sk-estimator-id-32\" class=\"sk-toggleable__label sk-toggleable__label-arrow\">cat</label><div class=\"sk-toggleable__content\"><pre>[&#x27;url&#x27;, &#x27;host&#x27;, &#x27;registration_date&#x27;, &#x27;expiration_date&#x27;, &#x27;last_updates_dates&#x27;, &#x27;registrar&#x27;, &#x27;reg_country&#x27;, &#x27;host_country&#x27;, &#x27;open_ports&#x27;, &#x27;isp&#x27;, &#x27;tld&#x27;, &#x27;scheme&#x27;]</pre></div></div></div><div class=\"sk-serial\"><div class=\"sk-item\"><div class=\"sk-serial\"><div class=\"sk-item\"><div class=\"sk-estimator sk-toggleable\"><input class=\"sk-toggleable__control sk-hidden--visually\" id=\"sk-estimator-id-33\" type=\"checkbox\" ><label for=\"sk-estimator-id-33\" class=\"sk-toggleable__label sk-toggleable__label-arrow\">SimpleImputer</label><div class=\"sk-toggleable__content\"><pre>SimpleImputer(strategy=&#x27;most_frequent&#x27;)</pre></div></div></div><div class=\"sk-item\"><div class=\"sk-estimator sk-toggleable\"><input class=\"sk-toggleable__control sk-hidden--visually\" id=\"sk-estimator-id-34\" type=\"checkbox\" ><label for=\"sk-estimator-id-34\" class=\"sk-toggleable__label sk-toggleable__label-arrow\">OneHotEncoder</label><div class=\"sk-toggleable__content\"><pre>OneHotEncoder(handle_unknown=&#x27;ignore&#x27;)</pre></div></div></div></div></div></div></div></div></div></div></div></div></div></div>"
            ]
          },
          "metadata": {},
          "execution_count": 35
        }
      ]
    },
    {
      "cell_type": "markdown",
      "source": [
        "# *Thêm vào pipeline việc xử lý mất cân bằng dữ liệu sử dụng các hàm đã học bao gồm SMOTE, SMOTEENN*"
      ],
      "metadata": {
        "id": "fKvm9ZaYeWTx"
      }
    },
    {
      "cell_type": "code",
      "source": [
        "pipeline_smote = Pipeline(steps=[\n",
        "    ('preprocessor', preprocessor),\n",
        "    ('smote', SMOTE(random_state=42)),  # Sử dụng SMOTE\n",
        "])\n",
        "\n",
        "pipeline_smoteenn = Pipeline(steps=[\n",
        "    ('preprocessor', preprocessor),\n",
        "    ('smoteenn', SMOTEENN(random_state=42)),  # Sử dụng SMOTEENN\n",
        "])"
      ],
      "metadata": {
        "id": "qo1dyvO2eiFr"
      },
      "execution_count": null,
      "outputs": []
    },
    {
      "cell_type": "code",
      "source": [
        "pipeline_smote"
      ],
      "metadata": {
        "colab": {
          "base_uri": "https://localhost:8080/",
          "height": 228
        },
        "id": "gI5nK3e3e__t",
        "outputId": "dc259cc2-3b47-4979-ed0b-71260f3f89bf"
      },
      "execution_count": null,
      "outputs": [
        {
          "output_type": "execute_result",
          "data": {
            "text/plain": [
              "Pipeline(steps=[('preprocessor',\n",
              "                 ColumnTransformer(transformers=[('num',\n",
              "                                                  Pipeline(steps=[('imputer',\n",
              "                                                                   KNNImputer()),\n",
              "                                                                  ('scaler',\n",
              "                                                                   StandardScaler())]),\n",
              "                                                  Index(['page_entropy', 'num_script_tags', 'script_to_body_ratio',\n",
              "       'html_length', 'page_tokens', 'num_sentences', 'num_punctuations',\n",
              "       'distinct_tokens', 'capitalizations', 'avg_tokens_per_sentence',\n",
              "       ...\n",
              "       'safe_anchor', 'on...\n",
              "       'domain_registration_length', 'dns_record', 'page_rank'],\n",
              "      dtype='object', length=118)),\n",
              "                                                 ('cat',\n",
              "                                                  Pipeline(steps=[('imputer',\n",
              "                                                                   SimpleImputer(strategy='most_frequent')),\n",
              "                                                                  ('onehot',\n",
              "                                                                   OneHotEncoder(handle_unknown='ignore'))]),\n",
              "                                                  ['url', 'host',\n",
              "                                                   'registration_date',\n",
              "                                                   'expiration_date',\n",
              "                                                   'last_updates_dates',\n",
              "                                                   'registrar', 'reg_country',\n",
              "                                                   'host_country', 'open_ports',\n",
              "                                                   'isp', 'tld', 'scheme'])])),\n",
              "                ('smote', SMOTE(random_state=42))])"
            ],
            "text/html": [
              "<style>#sk-container-id-5 {color: black;background-color: white;}#sk-container-id-5 pre{padding: 0;}#sk-container-id-5 div.sk-toggleable {background-color: white;}#sk-container-id-5 label.sk-toggleable__label {cursor: pointer;display: block;width: 100%;margin-bottom: 0;padding: 0.3em;box-sizing: border-box;text-align: center;}#sk-container-id-5 label.sk-toggleable__label-arrow:before {content: \"▸\";float: left;margin-right: 0.25em;color: #696969;}#sk-container-id-5 label.sk-toggleable__label-arrow:hover:before {color: black;}#sk-container-id-5 div.sk-estimator:hover label.sk-toggleable__label-arrow:before {color: black;}#sk-container-id-5 div.sk-toggleable__content {max-height: 0;max-width: 0;overflow: hidden;text-align: left;background-color: #f0f8ff;}#sk-container-id-5 div.sk-toggleable__content pre {margin: 0.2em;color: black;border-radius: 0.25em;background-color: #f0f8ff;}#sk-container-id-5 input.sk-toggleable__control:checked~div.sk-toggleable__content {max-height: 200px;max-width: 100%;overflow: auto;}#sk-container-id-5 input.sk-toggleable__control:checked~label.sk-toggleable__label-arrow:before {content: \"▾\";}#sk-container-id-5 div.sk-estimator input.sk-toggleable__control:checked~label.sk-toggleable__label {background-color: #d4ebff;}#sk-container-id-5 div.sk-label input.sk-toggleable__control:checked~label.sk-toggleable__label {background-color: #d4ebff;}#sk-container-id-5 input.sk-hidden--visually {border: 0;clip: rect(1px 1px 1px 1px);clip: rect(1px, 1px, 1px, 1px);height: 1px;margin: -1px;overflow: hidden;padding: 0;position: absolute;width: 1px;}#sk-container-id-5 div.sk-estimator {font-family: monospace;background-color: #f0f8ff;border: 1px dotted black;border-radius: 0.25em;box-sizing: border-box;margin-bottom: 0.5em;}#sk-container-id-5 div.sk-estimator:hover {background-color: #d4ebff;}#sk-container-id-5 div.sk-parallel-item::after {content: \"\";width: 100%;border-bottom: 1px solid gray;flex-grow: 1;}#sk-container-id-5 div.sk-label:hover label.sk-toggleable__label {background-color: #d4ebff;}#sk-container-id-5 div.sk-serial::before {content: \"\";position: absolute;border-left: 1px solid gray;box-sizing: border-box;top: 0;bottom: 0;left: 50%;z-index: 0;}#sk-container-id-5 div.sk-serial {display: flex;flex-direction: column;align-items: center;background-color: white;padding-right: 0.2em;padding-left: 0.2em;position: relative;}#sk-container-id-5 div.sk-item {position: relative;z-index: 1;}#sk-container-id-5 div.sk-parallel {display: flex;align-items: stretch;justify-content: center;background-color: white;position: relative;}#sk-container-id-5 div.sk-item::before, #sk-container-id-5 div.sk-parallel-item::before {content: \"\";position: absolute;border-left: 1px solid gray;box-sizing: border-box;top: 0;bottom: 0;left: 50%;z-index: -1;}#sk-container-id-5 div.sk-parallel-item {display: flex;flex-direction: column;z-index: 1;position: relative;background-color: white;}#sk-container-id-5 div.sk-parallel-item:first-child::after {align-self: flex-end;width: 50%;}#sk-container-id-5 div.sk-parallel-item:last-child::after {align-self: flex-start;width: 50%;}#sk-container-id-5 div.sk-parallel-item:only-child::after {width: 0;}#sk-container-id-5 div.sk-dashed-wrapped {border: 1px dashed gray;margin: 0 0.4em 0.5em 0.4em;box-sizing: border-box;padding-bottom: 0.4em;background-color: white;}#sk-container-id-5 div.sk-label label {font-family: monospace;font-weight: bold;display: inline-block;line-height: 1.2em;}#sk-container-id-5 div.sk-label-container {text-align: center;}#sk-container-id-5 div.sk-container {/* jupyter's `normalize.less` sets `[hidden] { display: none; }` but bootstrap.min.css set `[hidden] { display: none !important; }` so we also need the `!important` here to be able to override the default hidden behavior on the sphinx rendered scikit-learn.org. See: https://github.com/scikit-learn/scikit-learn/issues/21755 */display: inline-block !important;position: relative;}#sk-container-id-5 div.sk-text-repr-fallback {display: none;}</style><div id=\"sk-container-id-5\" class=\"sk-top-container\"><div class=\"sk-text-repr-fallback\"><pre>Pipeline(steps=[(&#x27;preprocessor&#x27;,\n",
              "                 ColumnTransformer(transformers=[(&#x27;num&#x27;,\n",
              "                                                  Pipeline(steps=[(&#x27;imputer&#x27;,\n",
              "                                                                   KNNImputer()),\n",
              "                                                                  (&#x27;scaler&#x27;,\n",
              "                                                                   StandardScaler())]),\n",
              "                                                  Index([&#x27;page_entropy&#x27;, &#x27;num_script_tags&#x27;, &#x27;script_to_body_ratio&#x27;,\n",
              "       &#x27;html_length&#x27;, &#x27;page_tokens&#x27;, &#x27;num_sentences&#x27;, &#x27;num_punctuations&#x27;,\n",
              "       &#x27;distinct_tokens&#x27;, &#x27;capitalizations&#x27;, &#x27;avg_tokens_per_sentence&#x27;,\n",
              "       ...\n",
              "       &#x27;safe_anchor&#x27;, &#x27;on...\n",
              "       &#x27;domain_registration_length&#x27;, &#x27;dns_record&#x27;, &#x27;page_rank&#x27;],\n",
              "      dtype=&#x27;object&#x27;, length=118)),\n",
              "                                                 (&#x27;cat&#x27;,\n",
              "                                                  Pipeline(steps=[(&#x27;imputer&#x27;,\n",
              "                                                                   SimpleImputer(strategy=&#x27;most_frequent&#x27;)),\n",
              "                                                                  (&#x27;onehot&#x27;,\n",
              "                                                                   OneHotEncoder(handle_unknown=&#x27;ignore&#x27;))]),\n",
              "                                                  [&#x27;url&#x27;, &#x27;host&#x27;,\n",
              "                                                   &#x27;registration_date&#x27;,\n",
              "                                                   &#x27;expiration_date&#x27;,\n",
              "                                                   &#x27;last_updates_dates&#x27;,\n",
              "                                                   &#x27;registrar&#x27;, &#x27;reg_country&#x27;,\n",
              "                                                   &#x27;host_country&#x27;, &#x27;open_ports&#x27;,\n",
              "                                                   &#x27;isp&#x27;, &#x27;tld&#x27;, &#x27;scheme&#x27;])])),\n",
              "                (&#x27;smote&#x27;, SMOTE(random_state=42))])</pre><b>In a Jupyter environment, please rerun this cell to show the HTML representation or trust the notebook. <br />On GitHub, the HTML representation is unable to render, please try loading this page with nbviewer.org.</b></div><div class=\"sk-container\" hidden><div class=\"sk-item sk-dashed-wrapped\"><div class=\"sk-label-container\"><div class=\"sk-label sk-toggleable\"><input class=\"sk-toggleable__control sk-hidden--visually\" id=\"sk-estimator-id-35\" type=\"checkbox\" ><label for=\"sk-estimator-id-35\" class=\"sk-toggleable__label sk-toggleable__label-arrow\">Pipeline</label><div class=\"sk-toggleable__content\"><pre>Pipeline(steps=[(&#x27;preprocessor&#x27;,\n",
              "                 ColumnTransformer(transformers=[(&#x27;num&#x27;,\n",
              "                                                  Pipeline(steps=[(&#x27;imputer&#x27;,\n",
              "                                                                   KNNImputer()),\n",
              "                                                                  (&#x27;scaler&#x27;,\n",
              "                                                                   StandardScaler())]),\n",
              "                                                  Index([&#x27;page_entropy&#x27;, &#x27;num_script_tags&#x27;, &#x27;script_to_body_ratio&#x27;,\n",
              "       &#x27;html_length&#x27;, &#x27;page_tokens&#x27;, &#x27;num_sentences&#x27;, &#x27;num_punctuations&#x27;,\n",
              "       &#x27;distinct_tokens&#x27;, &#x27;capitalizations&#x27;, &#x27;avg_tokens_per_sentence&#x27;,\n",
              "       ...\n",
              "       &#x27;safe_anchor&#x27;, &#x27;on...\n",
              "       &#x27;domain_registration_length&#x27;, &#x27;dns_record&#x27;, &#x27;page_rank&#x27;],\n",
              "      dtype=&#x27;object&#x27;, length=118)),\n",
              "                                                 (&#x27;cat&#x27;,\n",
              "                                                  Pipeline(steps=[(&#x27;imputer&#x27;,\n",
              "                                                                   SimpleImputer(strategy=&#x27;most_frequent&#x27;)),\n",
              "                                                                  (&#x27;onehot&#x27;,\n",
              "                                                                   OneHotEncoder(handle_unknown=&#x27;ignore&#x27;))]),\n",
              "                                                  [&#x27;url&#x27;, &#x27;host&#x27;,\n",
              "                                                   &#x27;registration_date&#x27;,\n",
              "                                                   &#x27;expiration_date&#x27;,\n",
              "                                                   &#x27;last_updates_dates&#x27;,\n",
              "                                                   &#x27;registrar&#x27;, &#x27;reg_country&#x27;,\n",
              "                                                   &#x27;host_country&#x27;, &#x27;open_ports&#x27;,\n",
              "                                                   &#x27;isp&#x27;, &#x27;tld&#x27;, &#x27;scheme&#x27;])])),\n",
              "                (&#x27;smote&#x27;, SMOTE(random_state=42))])</pre></div></div></div><div class=\"sk-serial\"><div class=\"sk-item sk-dashed-wrapped\"><div class=\"sk-label-container\"><div class=\"sk-label sk-toggleable\"><input class=\"sk-toggleable__control sk-hidden--visually\" id=\"sk-estimator-id-36\" type=\"checkbox\" ><label for=\"sk-estimator-id-36\" class=\"sk-toggleable__label sk-toggleable__label-arrow\">preprocessor: ColumnTransformer</label><div class=\"sk-toggleable__content\"><pre>ColumnTransformer(transformers=[(&#x27;num&#x27;,\n",
              "                                 Pipeline(steps=[(&#x27;imputer&#x27;, KNNImputer()),\n",
              "                                                 (&#x27;scaler&#x27;, StandardScaler())]),\n",
              "                                 Index([&#x27;page_entropy&#x27;, &#x27;num_script_tags&#x27;, &#x27;script_to_body_ratio&#x27;,\n",
              "       &#x27;html_length&#x27;, &#x27;page_tokens&#x27;, &#x27;num_sentences&#x27;, &#x27;num_punctuations&#x27;,\n",
              "       &#x27;distinct_tokens&#x27;, &#x27;capitalizations&#x27;, &#x27;avg_tokens_per_sentence&#x27;,\n",
              "       ...\n",
              "       &#x27;safe_anchor&#x27;, &#x27;onmouseover&#x27;, &#x27;right_clic&#x27;, &#x27;empty_t...\n",
              "       &#x27;domain_registration_length&#x27;, &#x27;dns_record&#x27;, &#x27;page_rank&#x27;],\n",
              "      dtype=&#x27;object&#x27;, length=118)),\n",
              "                                (&#x27;cat&#x27;,\n",
              "                                 Pipeline(steps=[(&#x27;imputer&#x27;,\n",
              "                                                  SimpleImputer(strategy=&#x27;most_frequent&#x27;)),\n",
              "                                                 (&#x27;onehot&#x27;,\n",
              "                                                  OneHotEncoder(handle_unknown=&#x27;ignore&#x27;))]),\n",
              "                                 [&#x27;url&#x27;, &#x27;host&#x27;, &#x27;registration_date&#x27;,\n",
              "                                  &#x27;expiration_date&#x27;, &#x27;last_updates_dates&#x27;,\n",
              "                                  &#x27;registrar&#x27;, &#x27;reg_country&#x27;, &#x27;host_country&#x27;,\n",
              "                                  &#x27;open_ports&#x27;, &#x27;isp&#x27;, &#x27;tld&#x27;, &#x27;scheme&#x27;])])</pre></div></div></div><div class=\"sk-parallel\"><div class=\"sk-parallel-item\"><div class=\"sk-item\"><div class=\"sk-label-container\"><div class=\"sk-label sk-toggleable\"><input class=\"sk-toggleable__control sk-hidden--visually\" id=\"sk-estimator-id-37\" type=\"checkbox\" ><label for=\"sk-estimator-id-37\" class=\"sk-toggleable__label sk-toggleable__label-arrow\">num</label><div class=\"sk-toggleable__content\"><pre>Index([&#x27;page_entropy&#x27;, &#x27;num_script_tags&#x27;, &#x27;script_to_body_ratio&#x27;,\n",
              "       &#x27;html_length&#x27;, &#x27;page_tokens&#x27;, &#x27;num_sentences&#x27;, &#x27;num_punctuations&#x27;,\n",
              "       &#x27;distinct_tokens&#x27;, &#x27;capitalizations&#x27;, &#x27;avg_tokens_per_sentence&#x27;,\n",
              "       ...\n",
              "       &#x27;safe_anchor&#x27;, &#x27;onmouseover&#x27;, &#x27;right_clic&#x27;, &#x27;empty_title&#x27;,\n",
              "       &#x27;domain_in_title&#x27;, &#x27;domain_with_copyright&#x27;, &#x27;whois_registered_domain&#x27;,\n",
              "       &#x27;domain_registration_length&#x27;, &#x27;dns_record&#x27;, &#x27;page_rank&#x27;],\n",
              "      dtype=&#x27;object&#x27;, length=118)</pre></div></div></div><div class=\"sk-serial\"><div class=\"sk-item\"><div class=\"sk-serial\"><div class=\"sk-item\"><div class=\"sk-estimator sk-toggleable\"><input class=\"sk-toggleable__control sk-hidden--visually\" id=\"sk-estimator-id-38\" type=\"checkbox\" ><label for=\"sk-estimator-id-38\" class=\"sk-toggleable__label sk-toggleable__label-arrow\">KNNImputer</label><div class=\"sk-toggleable__content\"><pre>KNNImputer()</pre></div></div></div><div class=\"sk-item\"><div class=\"sk-estimator sk-toggleable\"><input class=\"sk-toggleable__control sk-hidden--visually\" id=\"sk-estimator-id-39\" type=\"checkbox\" ><label for=\"sk-estimator-id-39\" class=\"sk-toggleable__label sk-toggleable__label-arrow\">StandardScaler</label><div class=\"sk-toggleable__content\"><pre>StandardScaler()</pre></div></div></div></div></div></div></div></div><div class=\"sk-parallel-item\"><div class=\"sk-item\"><div class=\"sk-label-container\"><div class=\"sk-label sk-toggleable\"><input class=\"sk-toggleable__control sk-hidden--visually\" id=\"sk-estimator-id-40\" type=\"checkbox\" ><label for=\"sk-estimator-id-40\" class=\"sk-toggleable__label sk-toggleable__label-arrow\">cat</label><div class=\"sk-toggleable__content\"><pre>[&#x27;url&#x27;, &#x27;host&#x27;, &#x27;registration_date&#x27;, &#x27;expiration_date&#x27;, &#x27;last_updates_dates&#x27;, &#x27;registrar&#x27;, &#x27;reg_country&#x27;, &#x27;host_country&#x27;, &#x27;open_ports&#x27;, &#x27;isp&#x27;, &#x27;tld&#x27;, &#x27;scheme&#x27;]</pre></div></div></div><div class=\"sk-serial\"><div class=\"sk-item\"><div class=\"sk-serial\"><div class=\"sk-item\"><div class=\"sk-estimator sk-toggleable\"><input class=\"sk-toggleable__control sk-hidden--visually\" id=\"sk-estimator-id-41\" type=\"checkbox\" ><label for=\"sk-estimator-id-41\" class=\"sk-toggleable__label sk-toggleable__label-arrow\">SimpleImputer</label><div class=\"sk-toggleable__content\"><pre>SimpleImputer(strategy=&#x27;most_frequent&#x27;)</pre></div></div></div><div class=\"sk-item\"><div class=\"sk-estimator sk-toggleable\"><input class=\"sk-toggleable__control sk-hidden--visually\" id=\"sk-estimator-id-42\" type=\"checkbox\" ><label for=\"sk-estimator-id-42\" class=\"sk-toggleable__label sk-toggleable__label-arrow\">OneHotEncoder</label><div class=\"sk-toggleable__content\"><pre>OneHotEncoder(handle_unknown=&#x27;ignore&#x27;)</pre></div></div></div></div></div></div></div></div></div></div><div class=\"sk-item\"><div class=\"sk-estimator sk-toggleable\"><input class=\"sk-toggleable__control sk-hidden--visually\" id=\"sk-estimator-id-43\" type=\"checkbox\" ><label for=\"sk-estimator-id-43\" class=\"sk-toggleable__label sk-toggleable__label-arrow\">SMOTE</label><div class=\"sk-toggleable__content\"><pre>SMOTE(random_state=42)</pre></div></div></div></div></div></div></div>"
            ]
          },
          "metadata": {},
          "execution_count": 37
        }
      ]
    },
    {
      "cell_type": "code",
      "source": [
        "pipeline_smoteenn"
      ],
      "metadata": {
        "colab": {
          "base_uri": "https://localhost:8080/",
          "height": 228
        },
        "id": "woCpNvSSfA-X",
        "outputId": "50fda8fe-5275-49fc-ecdf-92d5052c5a19"
      },
      "execution_count": null,
      "outputs": [
        {
          "output_type": "execute_result",
          "data": {
            "text/plain": [
              "Pipeline(steps=[('preprocessor',\n",
              "                 ColumnTransformer(transformers=[('num',\n",
              "                                                  Pipeline(steps=[('imputer',\n",
              "                                                                   KNNImputer()),\n",
              "                                                                  ('scaler',\n",
              "                                                                   StandardScaler())]),\n",
              "                                                  Index(['page_entropy', 'num_script_tags', 'script_to_body_ratio',\n",
              "       'html_length', 'page_tokens', 'num_sentences', 'num_punctuations',\n",
              "       'distinct_tokens', 'capitalizations', 'avg_tokens_per_sentence',\n",
              "       ...\n",
              "       'safe_anchor', 'on...\n",
              "       'domain_registration_length', 'dns_record', 'page_rank'],\n",
              "      dtype='object', length=118)),\n",
              "                                                 ('cat',\n",
              "                                                  Pipeline(steps=[('imputer',\n",
              "                                                                   SimpleImputer(strategy='most_frequent')),\n",
              "                                                                  ('onehot',\n",
              "                                                                   OneHotEncoder(handle_unknown='ignore'))]),\n",
              "                                                  ['url', 'host',\n",
              "                                                   'registration_date',\n",
              "                                                   'expiration_date',\n",
              "                                                   'last_updates_dates',\n",
              "                                                   'registrar', 'reg_country',\n",
              "                                                   'host_country', 'open_ports',\n",
              "                                                   'isp', 'tld', 'scheme'])])),\n",
              "                ('smoteenn', SMOTEENN(random_state=42))])"
            ],
            "text/html": [
              "<style>#sk-container-id-6 {color: black;background-color: white;}#sk-container-id-6 pre{padding: 0;}#sk-container-id-6 div.sk-toggleable {background-color: white;}#sk-container-id-6 label.sk-toggleable__label {cursor: pointer;display: block;width: 100%;margin-bottom: 0;padding: 0.3em;box-sizing: border-box;text-align: center;}#sk-container-id-6 label.sk-toggleable__label-arrow:before {content: \"▸\";float: left;margin-right: 0.25em;color: #696969;}#sk-container-id-6 label.sk-toggleable__label-arrow:hover:before {color: black;}#sk-container-id-6 div.sk-estimator:hover label.sk-toggleable__label-arrow:before {color: black;}#sk-container-id-6 div.sk-toggleable__content {max-height: 0;max-width: 0;overflow: hidden;text-align: left;background-color: #f0f8ff;}#sk-container-id-6 div.sk-toggleable__content pre {margin: 0.2em;color: black;border-radius: 0.25em;background-color: #f0f8ff;}#sk-container-id-6 input.sk-toggleable__control:checked~div.sk-toggleable__content {max-height: 200px;max-width: 100%;overflow: auto;}#sk-container-id-6 input.sk-toggleable__control:checked~label.sk-toggleable__label-arrow:before {content: \"▾\";}#sk-container-id-6 div.sk-estimator input.sk-toggleable__control:checked~label.sk-toggleable__label {background-color: #d4ebff;}#sk-container-id-6 div.sk-label input.sk-toggleable__control:checked~label.sk-toggleable__label {background-color: #d4ebff;}#sk-container-id-6 input.sk-hidden--visually {border: 0;clip: rect(1px 1px 1px 1px);clip: rect(1px, 1px, 1px, 1px);height: 1px;margin: -1px;overflow: hidden;padding: 0;position: absolute;width: 1px;}#sk-container-id-6 div.sk-estimator {font-family: monospace;background-color: #f0f8ff;border: 1px dotted black;border-radius: 0.25em;box-sizing: border-box;margin-bottom: 0.5em;}#sk-container-id-6 div.sk-estimator:hover {background-color: #d4ebff;}#sk-container-id-6 div.sk-parallel-item::after {content: \"\";width: 100%;border-bottom: 1px solid gray;flex-grow: 1;}#sk-container-id-6 div.sk-label:hover label.sk-toggleable__label {background-color: #d4ebff;}#sk-container-id-6 div.sk-serial::before {content: \"\";position: absolute;border-left: 1px solid gray;box-sizing: border-box;top: 0;bottom: 0;left: 50%;z-index: 0;}#sk-container-id-6 div.sk-serial {display: flex;flex-direction: column;align-items: center;background-color: white;padding-right: 0.2em;padding-left: 0.2em;position: relative;}#sk-container-id-6 div.sk-item {position: relative;z-index: 1;}#sk-container-id-6 div.sk-parallel {display: flex;align-items: stretch;justify-content: center;background-color: white;position: relative;}#sk-container-id-6 div.sk-item::before, #sk-container-id-6 div.sk-parallel-item::before {content: \"\";position: absolute;border-left: 1px solid gray;box-sizing: border-box;top: 0;bottom: 0;left: 50%;z-index: -1;}#sk-container-id-6 div.sk-parallel-item {display: flex;flex-direction: column;z-index: 1;position: relative;background-color: white;}#sk-container-id-6 div.sk-parallel-item:first-child::after {align-self: flex-end;width: 50%;}#sk-container-id-6 div.sk-parallel-item:last-child::after {align-self: flex-start;width: 50%;}#sk-container-id-6 div.sk-parallel-item:only-child::after {width: 0;}#sk-container-id-6 div.sk-dashed-wrapped {border: 1px dashed gray;margin: 0 0.4em 0.5em 0.4em;box-sizing: border-box;padding-bottom: 0.4em;background-color: white;}#sk-container-id-6 div.sk-label label {font-family: monospace;font-weight: bold;display: inline-block;line-height: 1.2em;}#sk-container-id-6 div.sk-label-container {text-align: center;}#sk-container-id-6 div.sk-container {/* jupyter's `normalize.less` sets `[hidden] { display: none; }` but bootstrap.min.css set `[hidden] { display: none !important; }` so we also need the `!important` here to be able to override the default hidden behavior on the sphinx rendered scikit-learn.org. See: https://github.com/scikit-learn/scikit-learn/issues/21755 */display: inline-block !important;position: relative;}#sk-container-id-6 div.sk-text-repr-fallback {display: none;}</style><div id=\"sk-container-id-6\" class=\"sk-top-container\"><div class=\"sk-text-repr-fallback\"><pre>Pipeline(steps=[(&#x27;preprocessor&#x27;,\n",
              "                 ColumnTransformer(transformers=[(&#x27;num&#x27;,\n",
              "                                                  Pipeline(steps=[(&#x27;imputer&#x27;,\n",
              "                                                                   KNNImputer()),\n",
              "                                                                  (&#x27;scaler&#x27;,\n",
              "                                                                   StandardScaler())]),\n",
              "                                                  Index([&#x27;page_entropy&#x27;, &#x27;num_script_tags&#x27;, &#x27;script_to_body_ratio&#x27;,\n",
              "       &#x27;html_length&#x27;, &#x27;page_tokens&#x27;, &#x27;num_sentences&#x27;, &#x27;num_punctuations&#x27;,\n",
              "       &#x27;distinct_tokens&#x27;, &#x27;capitalizations&#x27;, &#x27;avg_tokens_per_sentence&#x27;,\n",
              "       ...\n",
              "       &#x27;safe_anchor&#x27;, &#x27;on...\n",
              "       &#x27;domain_registration_length&#x27;, &#x27;dns_record&#x27;, &#x27;page_rank&#x27;],\n",
              "      dtype=&#x27;object&#x27;, length=118)),\n",
              "                                                 (&#x27;cat&#x27;,\n",
              "                                                  Pipeline(steps=[(&#x27;imputer&#x27;,\n",
              "                                                                   SimpleImputer(strategy=&#x27;most_frequent&#x27;)),\n",
              "                                                                  (&#x27;onehot&#x27;,\n",
              "                                                                   OneHotEncoder(handle_unknown=&#x27;ignore&#x27;))]),\n",
              "                                                  [&#x27;url&#x27;, &#x27;host&#x27;,\n",
              "                                                   &#x27;registration_date&#x27;,\n",
              "                                                   &#x27;expiration_date&#x27;,\n",
              "                                                   &#x27;last_updates_dates&#x27;,\n",
              "                                                   &#x27;registrar&#x27;, &#x27;reg_country&#x27;,\n",
              "                                                   &#x27;host_country&#x27;, &#x27;open_ports&#x27;,\n",
              "                                                   &#x27;isp&#x27;, &#x27;tld&#x27;, &#x27;scheme&#x27;])])),\n",
              "                (&#x27;smoteenn&#x27;, SMOTEENN(random_state=42))])</pre><b>In a Jupyter environment, please rerun this cell to show the HTML representation or trust the notebook. <br />On GitHub, the HTML representation is unable to render, please try loading this page with nbviewer.org.</b></div><div class=\"sk-container\" hidden><div class=\"sk-item sk-dashed-wrapped\"><div class=\"sk-label-container\"><div class=\"sk-label sk-toggleable\"><input class=\"sk-toggleable__control sk-hidden--visually\" id=\"sk-estimator-id-44\" type=\"checkbox\" ><label for=\"sk-estimator-id-44\" class=\"sk-toggleable__label sk-toggleable__label-arrow\">Pipeline</label><div class=\"sk-toggleable__content\"><pre>Pipeline(steps=[(&#x27;preprocessor&#x27;,\n",
              "                 ColumnTransformer(transformers=[(&#x27;num&#x27;,\n",
              "                                                  Pipeline(steps=[(&#x27;imputer&#x27;,\n",
              "                                                                   KNNImputer()),\n",
              "                                                                  (&#x27;scaler&#x27;,\n",
              "                                                                   StandardScaler())]),\n",
              "                                                  Index([&#x27;page_entropy&#x27;, &#x27;num_script_tags&#x27;, &#x27;script_to_body_ratio&#x27;,\n",
              "       &#x27;html_length&#x27;, &#x27;page_tokens&#x27;, &#x27;num_sentences&#x27;, &#x27;num_punctuations&#x27;,\n",
              "       &#x27;distinct_tokens&#x27;, &#x27;capitalizations&#x27;, &#x27;avg_tokens_per_sentence&#x27;,\n",
              "       ...\n",
              "       &#x27;safe_anchor&#x27;, &#x27;on...\n",
              "       &#x27;domain_registration_length&#x27;, &#x27;dns_record&#x27;, &#x27;page_rank&#x27;],\n",
              "      dtype=&#x27;object&#x27;, length=118)),\n",
              "                                                 (&#x27;cat&#x27;,\n",
              "                                                  Pipeline(steps=[(&#x27;imputer&#x27;,\n",
              "                                                                   SimpleImputer(strategy=&#x27;most_frequent&#x27;)),\n",
              "                                                                  (&#x27;onehot&#x27;,\n",
              "                                                                   OneHotEncoder(handle_unknown=&#x27;ignore&#x27;))]),\n",
              "                                                  [&#x27;url&#x27;, &#x27;host&#x27;,\n",
              "                                                   &#x27;registration_date&#x27;,\n",
              "                                                   &#x27;expiration_date&#x27;,\n",
              "                                                   &#x27;last_updates_dates&#x27;,\n",
              "                                                   &#x27;registrar&#x27;, &#x27;reg_country&#x27;,\n",
              "                                                   &#x27;host_country&#x27;, &#x27;open_ports&#x27;,\n",
              "                                                   &#x27;isp&#x27;, &#x27;tld&#x27;, &#x27;scheme&#x27;])])),\n",
              "                (&#x27;smoteenn&#x27;, SMOTEENN(random_state=42))])</pre></div></div></div><div class=\"sk-serial\"><div class=\"sk-item sk-dashed-wrapped\"><div class=\"sk-label-container\"><div class=\"sk-label sk-toggleable\"><input class=\"sk-toggleable__control sk-hidden--visually\" id=\"sk-estimator-id-45\" type=\"checkbox\" ><label for=\"sk-estimator-id-45\" class=\"sk-toggleable__label sk-toggleable__label-arrow\">preprocessor: ColumnTransformer</label><div class=\"sk-toggleable__content\"><pre>ColumnTransformer(transformers=[(&#x27;num&#x27;,\n",
              "                                 Pipeline(steps=[(&#x27;imputer&#x27;, KNNImputer()),\n",
              "                                                 (&#x27;scaler&#x27;, StandardScaler())]),\n",
              "                                 Index([&#x27;page_entropy&#x27;, &#x27;num_script_tags&#x27;, &#x27;script_to_body_ratio&#x27;,\n",
              "       &#x27;html_length&#x27;, &#x27;page_tokens&#x27;, &#x27;num_sentences&#x27;, &#x27;num_punctuations&#x27;,\n",
              "       &#x27;distinct_tokens&#x27;, &#x27;capitalizations&#x27;, &#x27;avg_tokens_per_sentence&#x27;,\n",
              "       ...\n",
              "       &#x27;safe_anchor&#x27;, &#x27;onmouseover&#x27;, &#x27;right_clic&#x27;, &#x27;empty_t...\n",
              "       &#x27;domain_registration_length&#x27;, &#x27;dns_record&#x27;, &#x27;page_rank&#x27;],\n",
              "      dtype=&#x27;object&#x27;, length=118)),\n",
              "                                (&#x27;cat&#x27;,\n",
              "                                 Pipeline(steps=[(&#x27;imputer&#x27;,\n",
              "                                                  SimpleImputer(strategy=&#x27;most_frequent&#x27;)),\n",
              "                                                 (&#x27;onehot&#x27;,\n",
              "                                                  OneHotEncoder(handle_unknown=&#x27;ignore&#x27;))]),\n",
              "                                 [&#x27;url&#x27;, &#x27;host&#x27;, &#x27;registration_date&#x27;,\n",
              "                                  &#x27;expiration_date&#x27;, &#x27;last_updates_dates&#x27;,\n",
              "                                  &#x27;registrar&#x27;, &#x27;reg_country&#x27;, &#x27;host_country&#x27;,\n",
              "                                  &#x27;open_ports&#x27;, &#x27;isp&#x27;, &#x27;tld&#x27;, &#x27;scheme&#x27;])])</pre></div></div></div><div class=\"sk-parallel\"><div class=\"sk-parallel-item\"><div class=\"sk-item\"><div class=\"sk-label-container\"><div class=\"sk-label sk-toggleable\"><input class=\"sk-toggleable__control sk-hidden--visually\" id=\"sk-estimator-id-46\" type=\"checkbox\" ><label for=\"sk-estimator-id-46\" class=\"sk-toggleable__label sk-toggleable__label-arrow\">num</label><div class=\"sk-toggleable__content\"><pre>Index([&#x27;page_entropy&#x27;, &#x27;num_script_tags&#x27;, &#x27;script_to_body_ratio&#x27;,\n",
              "       &#x27;html_length&#x27;, &#x27;page_tokens&#x27;, &#x27;num_sentences&#x27;, &#x27;num_punctuations&#x27;,\n",
              "       &#x27;distinct_tokens&#x27;, &#x27;capitalizations&#x27;, &#x27;avg_tokens_per_sentence&#x27;,\n",
              "       ...\n",
              "       &#x27;safe_anchor&#x27;, &#x27;onmouseover&#x27;, &#x27;right_clic&#x27;, &#x27;empty_title&#x27;,\n",
              "       &#x27;domain_in_title&#x27;, &#x27;domain_with_copyright&#x27;, &#x27;whois_registered_domain&#x27;,\n",
              "       &#x27;domain_registration_length&#x27;, &#x27;dns_record&#x27;, &#x27;page_rank&#x27;],\n",
              "      dtype=&#x27;object&#x27;, length=118)</pre></div></div></div><div class=\"sk-serial\"><div class=\"sk-item\"><div class=\"sk-serial\"><div class=\"sk-item\"><div class=\"sk-estimator sk-toggleable\"><input class=\"sk-toggleable__control sk-hidden--visually\" id=\"sk-estimator-id-47\" type=\"checkbox\" ><label for=\"sk-estimator-id-47\" class=\"sk-toggleable__label sk-toggleable__label-arrow\">KNNImputer</label><div class=\"sk-toggleable__content\"><pre>KNNImputer()</pre></div></div></div><div class=\"sk-item\"><div class=\"sk-estimator sk-toggleable\"><input class=\"sk-toggleable__control sk-hidden--visually\" id=\"sk-estimator-id-48\" type=\"checkbox\" ><label for=\"sk-estimator-id-48\" class=\"sk-toggleable__label sk-toggleable__label-arrow\">StandardScaler</label><div class=\"sk-toggleable__content\"><pre>StandardScaler()</pre></div></div></div></div></div></div></div></div><div class=\"sk-parallel-item\"><div class=\"sk-item\"><div class=\"sk-label-container\"><div class=\"sk-label sk-toggleable\"><input class=\"sk-toggleable__control sk-hidden--visually\" id=\"sk-estimator-id-49\" type=\"checkbox\" ><label for=\"sk-estimator-id-49\" class=\"sk-toggleable__label sk-toggleable__label-arrow\">cat</label><div class=\"sk-toggleable__content\"><pre>[&#x27;url&#x27;, &#x27;host&#x27;, &#x27;registration_date&#x27;, &#x27;expiration_date&#x27;, &#x27;last_updates_dates&#x27;, &#x27;registrar&#x27;, &#x27;reg_country&#x27;, &#x27;host_country&#x27;, &#x27;open_ports&#x27;, &#x27;isp&#x27;, &#x27;tld&#x27;, &#x27;scheme&#x27;]</pre></div></div></div><div class=\"sk-serial\"><div class=\"sk-item\"><div class=\"sk-serial\"><div class=\"sk-item\"><div class=\"sk-estimator sk-toggleable\"><input class=\"sk-toggleable__control sk-hidden--visually\" id=\"sk-estimator-id-50\" type=\"checkbox\" ><label for=\"sk-estimator-id-50\" class=\"sk-toggleable__label sk-toggleable__label-arrow\">SimpleImputer</label><div class=\"sk-toggleable__content\"><pre>SimpleImputer(strategy=&#x27;most_frequent&#x27;)</pre></div></div></div><div class=\"sk-item\"><div class=\"sk-estimator sk-toggleable\"><input class=\"sk-toggleable__control sk-hidden--visually\" id=\"sk-estimator-id-51\" type=\"checkbox\" ><label for=\"sk-estimator-id-51\" class=\"sk-toggleable__label sk-toggleable__label-arrow\">OneHotEncoder</label><div class=\"sk-toggleable__content\"><pre>OneHotEncoder(handle_unknown=&#x27;ignore&#x27;)</pre></div></div></div></div></div></div></div></div></div></div><div class=\"sk-item\"><div class=\"sk-estimator sk-toggleable\"><input class=\"sk-toggleable__control sk-hidden--visually\" id=\"sk-estimator-id-52\" type=\"checkbox\" ><label for=\"sk-estimator-id-52\" class=\"sk-toggleable__label sk-toggleable__label-arrow\">SMOTEENN</label><div class=\"sk-toggleable__content\"><pre>SMOTEENN(random_state=42)</pre></div></div></div></div></div></div></div>"
            ]
          },
          "metadata": {},
          "execution_count": 38
        }
      ]
    },
    {
      "cell_type": "markdown",
      "source": [
        "# *So sánh hiệu xuất mô hình (accuracy, recall, f1) giữa không có xử lý imbalance, xử lý imbalance bằng SMOTE, xử lý imbalance bằng SMOTEENN. In ra thành dạng bảng kết quả so sánh này*"
      ],
      "metadata": {
        "id": "Rdhdp-D4eatC"
      }
    },
    {
      "cell_type": "code",
      "source": [
        "def train_evaluate_random_forest(X_train, y_train, X_test, y_test, t):\n",
        "    clf = RandomForestClassifier(n_estimators=100, random_state=42)\n",
        "    clf.fit(X_train, y_train)\n",
        "    y_pred = clf.predict(X_test)\n",
        "    accuracy = accuracy_score(y_test, y_pred)\n",
        "    print(f'Accuracy: {accuracy}')\n",
        "    print(f'Evaluate Detail of {t}')\n",
        "    print(classification_report(y_test, y_pred))"
      ],
      "metadata": {
        "id": "WeGjAKMSf1nl"
      },
      "execution_count": null,
      "outputs": []
    },
    {
      "cell_type": "code",
      "source": [
        "X_train, X_test, y_train, y_test = train_test_split(X, y_encoded, test_size=0.2, random_state=42)"
      ],
      "metadata": {
        "id": "hghuKG5Fh6LM"
      },
      "execution_count": null,
      "outputs": []
    },
    {
      "cell_type": "markdown",
      "source": [
        "## ***Hiệu xuất mô hình khi Không xử lý imbalance***"
      ],
      "metadata": {
        "id": "Om2uqQowfe72"
      }
    },
    {
      "cell_type": "code",
      "source": [
        "# Combine transformed numeric and categorical features\n",
        "X_train_transformed = pipeline.fit_transform(X_train)\n",
        "X_test_transformed = pipeline.transform(X_test)\n",
        "\n",
        "# Train and evaluate the RandomForestClassifier\n",
        "train_evaluate_random_forest(X_train_transformed, y_train, X_test_transformed, y_test, t='No Imbalance')"
      ],
      "metadata": {
        "colab": {
          "base_uri": "https://localhost:8080/"
        },
        "id": "eB3DhyaRd1pt",
        "outputId": "947b9c48-2627-4160-952f-39b2a41651b0"
      },
      "execution_count": null,
      "outputs": [
        {
          "output_type": "stream",
          "name": "stdout",
          "text": [
            "Accuracy: 1.0\n",
            "Evaluate Detail: No Imbalance\n",
            "              precision    recall  f1-score   support\n",
            "\n",
            "           0       1.00      1.00      1.00       309\n",
            "           1       1.00      1.00      1.00       105\n",
            "\n",
            "    accuracy                           1.00       414\n",
            "   macro avg       1.00      1.00      1.00       414\n",
            "weighted avg       1.00      1.00      1.00       414\n",
            "\n"
          ]
        }
      ]
    },
    {
      "cell_type": "markdown",
      "source": [
        "## ***Hiệu xuất mô hình khi Xử lý imbalance bằng SMOTE***"
      ],
      "metadata": {
        "id": "W98QMbCJgENw"
      }
    },
    {
      "cell_type": "code",
      "source": [
        "# Fit the SMOTE transformation on the training data\n",
        "X_train_preprocessed_smote = pipeline_smote.named_steps['preprocessor'].transform(X_train)\n",
        "X_train_smote, y_train_smote = pipeline_smote.named_steps['smote'].fit_resample(X_train_preprocessed_smote, y_train)\n",
        "\n",
        "# Transform the test data using the same preprocessor\n",
        "#X_test_transformed = pipeline.transform(X_test)\n",
        "\n",
        "# Train and evaluate the RandomForestClassifier\n",
        "train_evaluate_random_forest(X_train_smote, y_train_smote, X_test_transformed, y_test, t='Imbalance by SMOTE')"
      ],
      "metadata": {
        "colab": {
          "base_uri": "https://localhost:8080/"
        },
        "id": "YnB0milTd-2G",
        "outputId": "29a54071-2f3e-4fe9-877a-bae75c9f34a4"
      },
      "execution_count": null,
      "outputs": [
        {
          "output_type": "stream",
          "name": "stdout",
          "text": [
            "Accuracy: 1.0\n",
            "Evaluate Detail: Imbalance by SMOTE\n",
            "              precision    recall  f1-score   support\n",
            "\n",
            "           0       1.00      1.00      1.00       309\n",
            "           1       1.00      1.00      1.00       105\n",
            "\n",
            "    accuracy                           1.00       414\n",
            "   macro avg       1.00      1.00      1.00       414\n",
            "weighted avg       1.00      1.00      1.00       414\n",
            "\n"
          ]
        }
      ]
    },
    {
      "cell_type": "markdown",
      "source": [
        "## ***Hiệu xuất mô hình khi Xử lý imbalance bằng SMOTEENN***"
      ],
      "metadata": {
        "id": "zDh9YKWNgLiQ"
      }
    },
    {
      "cell_type": "code",
      "source": [
        "# Fit the SMOTEENN transformation on the training data\n",
        "X_train_preprocessed_smoteenn = pipeline_smoteenn.named_steps['preprocessor'].transform(X_train)\n",
        "X_train_smoteenn, y_train_smoteenn = pipeline_smoteenn.named_steps['smoteenn'].fit_resample(X_train_preprocessed_smoteenn, y_train)\n",
        "\n",
        "# Transform the test data using the same preprocessor\n",
        "#X_test_transformed = pipeline.transform(X_test)\n",
        "\n",
        "# Train and evaluate the RandomForestClassifier\n",
        "train_evaluate_random_forest(X_train_smoteenn, y_train_smoteenn, X_test_transformed, y_test, t='Imbalance by SMOTEENN')"
      ],
      "metadata": {
        "colab": {
          "base_uri": "https://localhost:8080/"
        },
        "id": "dJXOeCcAga18",
        "outputId": "18e66526-eba7-4895-e277-bce447f5fda7"
      },
      "execution_count": null,
      "outputs": [
        {
          "output_type": "stream",
          "name": "stdout",
          "text": [
            "Accuracy: 1.0\n",
            "Evaluate Detail: Imbalance by SMOTEENN\n",
            "              precision    recall  f1-score   support\n",
            "\n",
            "           0       1.00      1.00      1.00       309\n",
            "           1       1.00      1.00      1.00       105\n",
            "\n",
            "    accuracy                           1.00       414\n",
            "   macro avg       1.00      1.00      1.00       414\n",
            "weighted avg       1.00      1.00      1.00       414\n",
            "\n"
          ]
        }
      ]
    }
  ]
}